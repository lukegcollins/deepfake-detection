{
 "cells": [
  {
   "cell_type": "code",
   "execution_count": null,
   "metadata": {},
   "outputs": [],
   "source": [
    "import numpy as np\n",
    "import matplotlib.pyplot as plt\n",
    "\n",
    "import sys\n",
    "import os\n",
    "import tensorflow as tf\n",
    "from tensorflow import keras\n",
    "from tensorflow.keras.models import Model, load_model\n",
    "from tensorflow.keras import backend as K\n",
    "from tensorflow.keras import layers, mixed_precision\n",
    "from tensorflow.keras.preprocessing.image import ImageDataGenerator\n",
    "from tensorflow.keras import layers, optimizers\n",
    "from tensorflow.keras.applications.xception import Xception\n",
    "from tensorflow.keras.layers import (Input, \n",
    "                                     Add, \n",
    "                                     Dense, \n",
    "                                     Activation, \n",
    "                                     ZeroPadding2D, \n",
    "                                     BatchNormalization, \n",
    "                                     Flatten, \n",
    "                                     Conv2D, \n",
    "                                     AveragePooling2D, \n",
    "                                     MaxPooling2D,\n",
    "                                     GlobalAveragePooling2D, \n",
    "                                     Dropout)\n",
    "from tensorflow.keras.callbacks import (ReduceLROnPlateau, \n",
    "                                        EarlyStopping, \n",
    "                                        ModelCheckpoint)\n",
    "\n",
    "from sklearn.metrics import confusion_matrix, classification_report, accuracy_score\n",
    "print(\"Num GPUs Available: \", len(tf.config.list_physical_devices('GPU')))"
   ]
  }
 ],
 "metadata": {
  "language_info": {
   "name": "python"
  },
  "orig_nbformat": 4
 },
 "nbformat": 4,
 "nbformat_minor": 2
}
